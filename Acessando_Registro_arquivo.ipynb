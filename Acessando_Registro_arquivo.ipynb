{
  "nbformat": 4,
  "nbformat_minor": 0,
  "metadata": {
    "colab": {
      "provenance": [],
      "mount_file_id": "1uM1LDFAosra4_hDUHXdDqV9PyO6tVzXW",
      "authorship_tag": "ABX9TyPc04PnH8TEutKYmvWjv9Ni",
      "include_colab_link": true
    },
    "kernelspec": {
      "name": "python3",
      "display_name": "Python 3"
    },
    "language_info": {
      "name": "python"
    }
  },
  "cells": [
    {
      "cell_type": "markdown",
      "metadata": {
        "id": "view-in-github",
        "colab_type": "text"
      },
      "source": [
        "<a href=\"https://colab.research.google.com/github/EmilyFonseca/Acessando_Registro_arquivo/blob/main/Acessando_Registro_arquivo.ipynb\" target=\"_parent\"><img src=\"https://colab.research.google.com/assets/colab-badge.svg\" alt=\"Open In Colab\"/></a>"
      ]
    },
    {
      "cell_type": "code",
      "execution_count": null,
      "metadata": {
        "id": "hinZLSPytpkl",
        "colab": {
          "base_uri": "https://localhost:8080/"
        },
        "outputId": "dda194d8-2521-4adf-9b65-cbc7931fa7e1"
      },
      "outputs": [
        {
          "output_type": "stream",
          "name": "stdout",
          "text": [
            "Registro realizado\n"
          ]
        },
        {
          "output_type": "execute_result",
          "data": {
            "text/plain": [
              "<_io.TextIOWrapper name='aulaLP01.txt' mode='r' encoding='utf-8'>"
            ]
          },
          "metadata": {},
          "execution_count": 1
        }
      ],
      "source": [
        "import time\n",
        "\n",
        "def openLog(nomearquivo, modo='r'):\n",
        "    arqEntrada = open(nomearquivo, modo)\n",
        "\n",
        "    now = time.localtime()\n",
        "    nowFormat = time.strftime('%A %b/%d/%y %I:%M %p', now)\n",
        "\n",
        "    arqSaida = open('log.txt', 'a')\n",
        "    log = '{}: Arquivo {} aberto.\\n'\n",
        "    arqSaida.write(log.format(nowFormat, nomearquivo))\n",
        "    arqSaida.close()\n",
        "\n",
        "    print('Registro realizado')\n",
        "\n",
        "    return arqEntrada\n",
        "openLog('aulaLP01.txt')\n"
      ]
    },
    {
      "cell_type": "code",
      "source": [
        "openLog('aulaLP01.txt')"
      ],
      "metadata": {
        "colab": {
          "base_uri": "https://localhost:8080/"
        },
        "id": "CkG-58kDAGNU",
        "outputId": "22eeaaf5-95be-4ee9-c355-d41cae16940d"
      },
      "execution_count": null,
      "outputs": [
        {
          "output_type": "stream",
          "name": "stdout",
          "text": [
            "Registro realizado\n"
          ]
        },
        {
          "output_type": "execute_result",
          "data": {
            "text/plain": [
              "<_io.TextIOWrapper name='aulaLP01.txt' mode='r' encoding='utf-8'>"
            ]
          },
          "metadata": {},
          "execution_count": 2
        }
      ]
    }
  ]
}